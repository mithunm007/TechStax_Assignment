{
 "cells": [
  {
   "cell_type": "markdown",
   "metadata": {},
   "source": [
    "ML Engineer Task\n",
    "\n",
    "Outcome:\n",
    "\n",
    "1. Jupyter notebook with Data Cleaning & Processing \n",
    "2. ML Model to **Predict Accident Severity** (Split Data into train-75%, validate-15% & test-10%)\n",
    "3. Recommendations on the research"
   ]
  },
  {
   "cell_type": "markdown",
   "metadata": {},
   "source": [
    "Step1 - Imports\n",
    "\n",
    "The dataset is reduced to 5k datapoints for the ease of computation and named as mltask_sampled.csv , the code for the same is named as Computation.ipynb"
   ]
  },
  {
   "cell_type": "code",
   "execution_count": 20,
   "metadata": {},
   "outputs": [],
   "source": [
    "import pandas as pd\n",
    "import numpy as np\n",
    "from sklearn.model_selection import train_test_split\n",
    "from sklearn.preprocessing import LabelEncoder\n",
    "from sklearn.ensemble import RandomForestClassifier\n",
    "from sklearn.metrics import classification_report, accuracy_score\n",
    "import matplotlib.pyplot as plt\n",
    "import seaborn as sns\n",
    "\n",
    "# Load the dataset\n",
    "df = pd.read_csv('mltask_sampled.csv')"
   ]
  },
  {
   "cell_type": "markdown",
   "metadata": {},
   "source": [
    "Step 2: Check initial data"
   ]
  },
  {
   "cell_type": "code",
   "execution_count": null,
   "metadata": {},
   "outputs": [
    {
     "name": "stdout",
     "output_type": "stream",
     "text": [
      "Initial Data Information:\n",
      "<class 'pandas.core.frame.DataFrame'>\n",
      "RangeIndex: 5000 entries, 0 to 4999\n",
      "Data columns (total 46 columns):\n",
      " #   Column                 Non-Null Count  Dtype  \n",
      "---  ------                 --------------  -----  \n",
      " 0   ID                     5000 non-null   object \n",
      " 1   Source                 5000 non-null   object \n",
      " 2   Severity               5000 non-null   int64  \n",
      " 3   Start_Time             5000 non-null   object \n",
      " 4   End_Time               5000 non-null   object \n",
      " 5   Start_Lat              5000 non-null   float64\n",
      " 6   Start_Lng              5000 non-null   float64\n",
      " 7   End_Lat                0 non-null      float64\n",
      " 8   End_Lng                0 non-null      float64\n",
      " 9   Distance(mi)           5000 non-null   float64\n",
      " 10  Description            5000 non-null   object \n",
      " 11  Street                 5000 non-null   object \n",
      " 12  City                   5000 non-null   object \n",
      " 13  County                 5000 non-null   object \n",
      " 14  State                  5000 non-null   object \n",
      " 15  Zipcode                5000 non-null   object \n",
      " 16  Country                5000 non-null   object \n",
      " 17  Timezone               5000 non-null   object \n",
      " 18  Airport_Code           5000 non-null   object \n",
      " 19  Weather_Timestamp      4981 non-null   object \n",
      " 20  Temperature(F)         4978 non-null   float64\n",
      " 21  Wind_Chill(F)          460 non-null    float64\n",
      " 22  Humidity(%)            4978 non-null   float64\n",
      " 23  Pressure(in)           4980 non-null   float64\n",
      " 24  Visibility(mi)         4958 non-null   float64\n",
      " 25  Wind_Direction         4981 non-null   object \n",
      " 26  Wind_Speed(mph)        4541 non-null   float64\n",
      " 27  Precipitation(in)      192 non-null    float64\n",
      " 28  Weather_Condition      4964 non-null   object \n",
      " 29  Amenity                5000 non-null   bool   \n",
      " 30  Bump                   5000 non-null   bool   \n",
      " 31  Crossing               5000 non-null   bool   \n",
      " 32  Give_Way               5000 non-null   bool   \n",
      " 33  Junction               5000 non-null   bool   \n",
      " 34  No_Exit                5000 non-null   bool   \n",
      " 35  Railway                5000 non-null   bool   \n",
      " 36  Roundabout             5000 non-null   bool   \n",
      " 37  Station                5000 non-null   bool   \n",
      " 38  Stop                   5000 non-null   bool   \n",
      " 39  Traffic_Calming        5000 non-null   bool   \n",
      " 40  Traffic_Signal         5000 non-null   bool   \n",
      " 41  Turning_Loop           5000 non-null   bool   \n",
      " 42  Sunrise_Sunset         5000 non-null   object \n",
      " 43  Civil_Twilight         5000 non-null   object \n",
      " 44  Nautical_Twilight      5000 non-null   object \n",
      " 45  Astronomical_Twilight  5000 non-null   object \n",
      "dtypes: bool(13), float64(12), int64(1), object(20)\n",
      "memory usage: 1.3+ MB\n",
      "Missing values before cleaning:\n",
      "ID                          0\n",
      "Source                      0\n",
      "Severity                    0\n",
      "Start_Time                  0\n",
      "End_Time                    0\n",
      "Start_Lat                   0\n",
      "Start_Lng                   0\n",
      "End_Lat                  5000\n",
      "End_Lng                  5000\n",
      "Distance(mi)                0\n",
      "Description                 0\n",
      "Street                      0\n",
      "City                        0\n",
      "County                      0\n",
      "State                       0\n",
      "Zipcode                     0\n",
      "Country                     0\n",
      "Timezone                    0\n",
      "Airport_Code                0\n",
      "Weather_Timestamp          19\n",
      "Temperature(F)             22\n",
      "Wind_Chill(F)            4540\n",
      "Humidity(%)                22\n",
      "Pressure(in)               20\n",
      "Visibility(mi)             42\n",
      "Wind_Direction             19\n",
      "Wind_Speed(mph)           459\n",
      "Precipitation(in)        4808\n",
      "Weather_Condition          36\n",
      "Amenity                     0\n",
      "Bump                        0\n",
      "Crossing                    0\n",
      "Give_Way                    0\n",
      "Junction                    0\n",
      "No_Exit                     0\n",
      "Railway                     0\n",
      "Roundabout                  0\n",
      "Station                     0\n",
      "Stop                        0\n",
      "Traffic_Calming             0\n",
      "Traffic_Signal              0\n",
      "Turning_Loop                0\n",
      "Sunrise_Sunset              0\n",
      "Civil_Twilight              0\n",
      "Nautical_Twilight           0\n",
      "Astronomical_Twilight       0\n",
      "dtype: int64\n"
     ]
    }
   ],
   "source": [
    "\n",
    "print(\"Initial Data Information:\")\n",
    "df.info()\n",
    "\n",
    "# Step 2: Check missing values before cleaning\n",
    "print(\"Missing values before cleaning:\")\n",
    "print(df.isnull().sum())\n",
    "\n"
   ]
  },
  {
   "cell_type": "markdown",
   "metadata": {},
   "source": [
    "Step 3: Handling Missing Values and data cleaning"
   ]
  },
  {
   "cell_type": "code",
   "execution_count": null,
   "metadata": {},
   "outputs": [
    {
     "name": "stdout",
     "output_type": "stream",
     "text": [
      "Missing values after cleaning:\n",
      "Severity                    0\n",
      "Start_Lat                   0\n",
      "Start_Lng                   0\n",
      "End_Lat                  5000\n",
      "End_Lng                  5000\n",
      "Distance(mi)                0\n",
      "Street                      0\n",
      "City                        0\n",
      "County                      0\n",
      "State                       0\n",
      "Zipcode                     0\n",
      "Country                     0\n",
      "Timezone                    0\n",
      "Airport_Code                0\n",
      "Weather_Timestamp           0\n",
      "Temperature(F)              0\n",
      "Wind_Chill(F)               0\n",
      "Humidity(%)                 0\n",
      "Pressure(in)                0\n",
      "Visibility(mi)              0\n",
      "Wind_Direction             19\n",
      "Wind_Speed(mph)             0\n",
      "Precipitation(in)           0\n",
      "Weather_Condition          36\n",
      "Amenity                     0\n",
      "Bump                        0\n",
      "Crossing                    0\n",
      "Give_Way                    0\n",
      "Junction                    0\n",
      "No_Exit                     0\n",
      "Railway                     0\n",
      "Roundabout                  0\n",
      "Station                     0\n",
      "Stop                        0\n",
      "Traffic_Calming             0\n",
      "Traffic_Signal              0\n",
      "Turning_Loop                0\n",
      "Sunrise_Sunset              0\n",
      "Civil_Twilight              0\n",
      "Nautical_Twilight           0\n",
      "Astronomical_Twilight       0\n",
      "Start_Year                  0\n",
      "Start_Month                 0\n",
      "Start_Day                   0\n",
      "Start_Hour                  0\n",
      "Start_Minute                0\n",
      "Start_Second                0\n",
      "End_Year                    0\n",
      "End_Month                   0\n",
      "End_Day                     0\n",
      "End_Hour                    0\n",
      "End_Minute                  0\n",
      "End_Second                  0\n",
      "dtype: int64\n"
     ]
    }
   ],
   "source": [
    "\n",
    "\n",
    "# Fill missing latitude and longitude values with the mean (numerical data)\n",
    "df['End_Lat'] = df['End_Lat'].fillna(df['End_Lat'].mean())\n",
    "df['End_Lng'] = df['End_Lng'].fillna(df['End_Lng'].mean())\n",
    "\n",
    "# Fill 'Number' column with mode if it exists\n",
    "if 'Number' in df.columns:\n",
    "    df['Number'] = df['Number'].fillna(df['Number'].mode()[0])\n",
    "\n",
    "# Fill categorical columns (e.g., 'Street', 'City', etc.) with mode\n",
    "df['Street'] = df['Street'].fillna(df['Street'].mode()[0])\n",
    "df['City'] = df['City'].fillna(df['City'].mode()[0])\n",
    "df['County'] = df['County'].fillna(df['County'].mode()[0])\n",
    "df['State'] = df['State'].fillna(df['State'].mode()[0])\n",
    "df['Zipcode'] = df['Zipcode'].fillna(df['Zipcode'].mode()[0])\n",
    "df['Country'] = df['Country'].fillna(df['Country'].mode()[0])\n",
    "df['Timezone'] = df['Timezone'].fillna(df['Timezone'].mode()[0])\n",
    "df['Airport_Code'] = df['Airport_Code'].fillna(df['Airport_Code'].mode()[0])\n",
    "\n",
    "# Weather-related columns (numeric data filled with mean, categorical with mode)\n",
    "df['Weather_Timestamp'] = df['Weather_Timestamp'].fillna(df['Weather_Timestamp'].mode()[0])\n",
    "df['Temperature(F)'] = df['Temperature(F)'].fillna(df['Temperature(F)'].mean())\n",
    "df['Wind_Chill(F)'] = df['Wind_Chill(F)'].fillna(df['Wind_Chill(F)'].mean())\n",
    "df['Humidity(%)'] = df['Humidity(%)'].fillna(df['Humidity(%)'].mean())\n",
    "df['Pressure(in)'] = df['Pressure(in)'].fillna(df['Pressure(in)'].mean())\n",
    "df['Visibility(mi)'] = df['Visibility(mi)'].fillna(df['Visibility(mi)'].mean())\n",
    "df['Wind_Speed(mph)'] = df['Wind_Speed(mph)'].fillna(df['Wind_Speed(mph)'].mean())\n",
    "df['Precipitation(in)'] = df['Precipitation(in)'].fillna(df['Precipitation(in)'].mean())\n",
    "\n",
    "# Handle the twilight and period of the day columns\n",
    "df['Sunrise_Sunset'] = df['Sunrise_Sunset'].fillna(df['Sunrise_Sunset'].mode()[0])\n",
    "df['Civil_Twilight'] = df['Civil_Twilight'].fillna(df['Civil_Twilight'].mode()[0])\n",
    "df['Nautical_Twilight'] = df['Nautical_Twilight'].fillna(df['Nautical_Twilight'].mode()[0])\n",
    "df['Astronomical_Twilight'] = df['Astronomical_Twilight'].fillna(df['Astronomical_Twilight'].mode()[0])\n",
    "\n",
    "# Step 4: Handling DateTime columns (convert to datetime if needed)\n",
    "df['Start_Time'] = pd.to_datetime(df['Start_Time'], errors='coerce')\n",
    "df['End_Time'] = pd.to_datetime(df['End_Time'], errors='coerce')\n",
    "\n",
    "\n",
    "\n",
    "# Extract features like year, month, day, hour, minute, and second\n",
    "df['Start_Year'] = df['Start_Time'].dt.year\n",
    "df['Start_Month'] = df['Start_Time'].dt.month\n",
    "df['Start_Day'] = df['Start_Time'].dt.day\n",
    "df['Start_Hour'] = df['Start_Time'].dt.hour\n",
    "df['Start_Minute'] = df['Start_Time'].dt.minute\n",
    "df['Start_Second'] = df['Start_Time'].dt.second\n",
    "\n",
    "df['End_Year'] = df['End_Time'].dt.year\n",
    "df['End_Month'] = df['End_Time'].dt.month\n",
    "df['End_Day'] = df['End_Time'].dt.day\n",
    "df['End_Hour'] = df['End_Time'].dt.hour\n",
    "df['End_Minute'] = df['End_Time'].dt.minute\n",
    "df['End_Second'] = df['End_Time'].dt.second\n",
    "\n",
    "# Drop the original datetime columns if no longer needed\n",
    "df = df.drop(['Start_Time', 'End_Time'], axis=1)\n",
    "\n",
    "\n",
    "# Step 5: Drop columns that are not needed for prediction (if applicable)\n",
    "df = df.drop(['ID', 'Source', 'Description'], axis=1)\n",
    "\n",
    "# Step 6: Check for duplicates and remove them\n",
    "df = df.drop_duplicates()\n",
    "\n",
    "# Step 7: Handle outliers - Example: cap extreme values for wind speed, temperature, and precipitation\n",
    "df['Wind_Speed(mph)'] = df['Wind_Speed(mph)'].clip(upper=df['Wind_Speed(mph)'].quantile(0.95))\n",
    "df['Temperature(F)'] = df['Temperature(F)'].clip(lower=df['Temperature(F)'].quantile(0.05),\n",
    "                                                upper=df['Temperature(F)'].quantile(0.95))\n",
    "df['Precipitation(in)'] = df['Precipitation(in)'].clip(upper=df['Precipitation(in)'].quantile(0.95))\n",
    "\n",
    "# Step 8: Check for any remaining missing values\n",
    "print(\"Missing values after cleaning:\")\n",
    "print(df.isnull().sum())\n",
    "\n",
    "# Step 9: Convert categorical variables to category type (if applicable) for memory efficiency\n",
    "categorical_columns = ['Street', 'City', 'County', 'State', 'Zipcode', 'Country', 'Timezone', 'Airport_Code',\n",
    "                       'Weather_Condition', 'Sunrise_Sunset', 'Civil_Twilight', 'Nautical_Twilight', 'Astronomical_Twilight']\n",
    "df[categorical_columns] = df[categorical_columns].apply(lambda x: x.astype('category'))\n",
    "\n",
    "# Step 10: Encode the target variable 'Severity' as numeric for ML models\n",
    "df['Severity'] = df['Severity'].astype('category').cat.codes\n",
    "\n"
   ]
  },
  {
   "cell_type": "markdown",
   "metadata": {},
   "source": [
    "Step 4: Final Check on the processed dataset"
   ]
  },
  {
   "cell_type": "code",
   "execution_count": null,
   "metadata": {},
   "outputs": [
    {
     "name": "stdout",
     "output_type": "stream",
     "text": [
      "Final Dataset Information:\n",
      "<class 'pandas.core.frame.DataFrame'>\n",
      "RangeIndex: 5000 entries, 0 to 4999\n",
      "Data columns (total 53 columns):\n",
      " #   Column                 Non-Null Count  Dtype   \n",
      "---  ------                 --------------  -----   \n",
      " 0   Severity               5000 non-null   int8    \n",
      " 1   Start_Lat              5000 non-null   float64 \n",
      " 2   Start_Lng              5000 non-null   float64 \n",
      " 3   End_Lat                0 non-null      float64 \n",
      " 4   End_Lng                0 non-null      float64 \n",
      " 5   Distance(mi)           5000 non-null   float64 \n",
      " 6   Street                 5000 non-null   category\n",
      " 7   City                   5000 non-null   category\n",
      " 8   County                 5000 non-null   category\n",
      " 9   State                  5000 non-null   category\n",
      " 10  Zipcode                5000 non-null   category\n",
      " 11  Country                5000 non-null   category\n",
      " 12  Timezone               5000 non-null   category\n",
      " 13  Airport_Code           5000 non-null   category\n",
      " 14  Weather_Timestamp      5000 non-null   object  \n",
      " 15  Temperature(F)         5000 non-null   float64 \n",
      " 16  Wind_Chill(F)          5000 non-null   float64 \n",
      " 17  Humidity(%)            5000 non-null   float64 \n",
      " 18  Pressure(in)           5000 non-null   float64 \n",
      " 19  Visibility(mi)         5000 non-null   float64 \n",
      " 20  Wind_Direction         4981 non-null   object  \n",
      " 21  Wind_Speed(mph)        5000 non-null   float64 \n",
      " 22  Precipitation(in)      5000 non-null   float64 \n",
      " 23  Weather_Condition      4964 non-null   category\n",
      " 24  Amenity                5000 non-null   bool    \n",
      " 25  Bump                   5000 non-null   bool    \n",
      " 26  Crossing               5000 non-null   bool    \n",
      " 27  Give_Way               5000 non-null   bool    \n",
      " 28  Junction               5000 non-null   bool    \n",
      " 29  No_Exit                5000 non-null   bool    \n",
      " 30  Railway                5000 non-null   bool    \n",
      " 31  Roundabout             5000 non-null   bool    \n",
      " 32  Station                5000 non-null   bool    \n",
      " 33  Stop                   5000 non-null   bool    \n",
      " 34  Traffic_Calming        5000 non-null   bool    \n",
      " 35  Traffic_Signal         5000 non-null   bool    \n",
      " 36  Turning_Loop           5000 non-null   bool    \n",
      " 37  Sunrise_Sunset         5000 non-null   category\n",
      " 38  Civil_Twilight         5000 non-null   category\n",
      " 39  Nautical_Twilight      5000 non-null   category\n",
      " 40  Astronomical_Twilight  5000 non-null   category\n",
      " 41  Start_Year             5000 non-null   int32   \n",
      " 42  Start_Month            5000 non-null   int32   \n",
      " 43  Start_Day              5000 non-null   int32   \n",
      " 44  Start_Hour             5000 non-null   int32   \n",
      " 45  Start_Minute           5000 non-null   int32   \n",
      " 46  Start_Second           5000 non-null   int32   \n",
      " 47  End_Year               5000 non-null   int32   \n",
      " 48  End_Month              5000 non-null   int32   \n",
      " 49  End_Day                5000 non-null   int32   \n",
      " 50  End_Hour               5000 non-null   int32   \n",
      " 51  End_Minute             5000 non-null   int32   \n",
      " 52  End_Second             5000 non-null   int32   \n",
      "dtypes: bool(13), category(13), float64(12), int32(12), int8(1), object(2)\n",
      "memory usage: 1.0+ MB\n",
      "None\n"
     ]
    }
   ],
   "source": [
    "\n",
    "print(\"Final Dataset Information:\")\n",
    "print(df.info())\n",
    "\n",
    "# Step 12: Save the cleaned dataset to a new CSV file (optional)\n",
    "df.to_csv('mltask_sampled_cleaned.csv', index=False)\n"
   ]
  },
  {
   "cell_type": "markdown",
   "metadata": {},
   "source": [
    "Step 5: Split the dataset into features (X) and target (y)"
   ]
  },
  {
   "cell_type": "code",
   "execution_count": 24,
   "metadata": {},
   "outputs": [],
   "source": [
    "\n",
    "X = df.drop('Severity', axis=1)  # Drop the target column\n",
    "y = df['Severity']  # Target column\n"
   ]
  },
  {
   "cell_type": "markdown",
   "metadata": {},
   "source": [
    "Step 6: Train-Validate-Test Split"
   ]
  },
  {
   "cell_type": "code",
   "execution_count": null,
   "metadata": {},
   "outputs": [
    {
     "name": "stdout",
     "output_type": "stream",
     "text": [
      "Train size: (3749, 52) (3749,)\n",
      "Validation size: (751, 52) (751,)\n",
      "Test size: (500, 52) (500,)\n"
     ]
    }
   ],
   "source": [
    "\n",
    "# First, split into train+validate (90%) and test (10%)\n",
    "X_train_validate, X_test, y_train_validate, y_test = train_test_split(X, y, test_size=0.1, random_state=42)\n",
    "\n",
    "# Then, split train+validate into train (75%) and validate (15%)\n",
    "X_train, X_validate, y_train, y_validate = train_test_split(X_train_validate, y_train_validate, test_size=0.1667, random_state=42)  # 0.1667 ~ 15% of the original data\n",
    "\n",
    "# Check the sizes of the splits\n",
    "print(\"Train size:\", X_train.shape, y_train.shape)\n",
    "print(\"Validation size:\", X_validate.shape, y_validate.shape)\n",
    "print(\"Test size:\", X_test.shape, y_test.shape)\n"
   ]
  },
  {
   "cell_type": "markdown",
   "metadata": {},
   "source": [
    "Step 7: Handle categorical columns using One-Hot Encoding"
   ]
  },
  {
   "cell_type": "code",
   "execution_count": null,
   "metadata": {},
   "outputs": [
    {
     "name": "stdout",
     "output_type": "stream",
     "text": [
      "Accuracy: 0.885\n",
      "Classification Report:\n",
      "              precision    recall  f1-score   support\n",
      "\n",
      "           1       0.89      0.91      0.90       565\n",
      "           2       0.88      0.85      0.87       434\n",
      "           3       0.00      0.00      0.00         1\n",
      "\n",
      "    accuracy                           0.89      1000\n",
      "   macro avg       0.59      0.59      0.59      1000\n",
      "weighted avg       0.88      0.89      0.88      1000\n",
      "\n"
     ]
    },
    {
     "name": "stderr",
     "output_type": "stream",
     "text": [
      "C:\\Users\\Mithun\\AppData\\Roaming\\Python\\Python311\\site-packages\\sklearn\\metrics\\_classification.py:1497: UndefinedMetricWarning: Precision is ill-defined and being set to 0.0 in labels with no predicted samples. Use `zero_division` parameter to control this behavior.\n",
      "  _warn_prf(average, modifier, f\"{metric.capitalize()} is\", len(result))\n",
      "C:\\Users\\Mithun\\AppData\\Roaming\\Python\\Python311\\site-packages\\sklearn\\metrics\\_classification.py:1497: UndefinedMetricWarning: Precision is ill-defined and being set to 0.0 in labels with no predicted samples. Use `zero_division` parameter to control this behavior.\n",
      "  _warn_prf(average, modifier, f\"{metric.capitalize()} is\", len(result))\n",
      "C:\\Users\\Mithun\\AppData\\Roaming\\Python\\Python311\\site-packages\\sklearn\\metrics\\_classification.py:1497: UndefinedMetricWarning: Precision is ill-defined and being set to 0.0 in labels with no predicted samples. Use `zero_division` parameter to control this behavior.\n",
      "  _warn_prf(average, modifier, f\"{metric.capitalize()} is\", len(result))\n"
     ]
    }
   ],
   "source": [
    "\n",
    "categorical_columns = ['Street', 'City', 'County', 'State', 'Zipcode', 'Country', \n",
    "                       'Timezone', 'Airport_Code', 'Wind_Direction', 'Weather_Condition', \n",
    "                       'Weather_Timestamp', 'Sunrise_Sunset', 'Civil_Twilight', \n",
    "                       'Nautical_Twilight', 'Astronomical_Twilight']\n",
    "\n",
    "# Apply one-hot encoding\n",
    "df_encoded = pd.get_dummies(df, columns=categorical_columns)\n",
    "\n",
    "# Initialize the Random Forest Classifier and fit it to the training data\n",
    "from sklearn.ensemble import RandomForestClassifier\n",
    "\n",
    "rf_model = RandomForestClassifier(n_estimators=100, random_state=42)\n",
    "rf_model.fit(X_train, y_train)\n",
    "\n",
    "# Step 5: Evaluate the model\n",
    "from sklearn.metrics import accuracy_score, classification_report\n",
    "y_pred = rf_model.predict(X_test)\n",
    "print(\"Accuracy:\", accuracy_score(y_test, y_pred))\n",
    "print(\"Classification Report:\")\n",
    "print(classification_report(y_test, y_pred))\n"
   ]
  },
  {
   "cell_type": "markdown",
   "metadata": {},
   "source": [
    "Step 8: Visualization through bar chart"
   ]
  },
  {
   "cell_type": "code",
   "execution_count": 32,
   "metadata": {},
   "outputs": [
    {
     "data": {
      "image/png": "[encoded data removed]",
      "text/plain": [
       "<Figure size 1000x600 with 1 Axes>"
      ]
     },
     "metadata": {},
     "output_type": "display_data"
    }
   ],
   "source": [
    "# Sample a smaller subset for quick testing\n",
    "X_small = X.sample(n=1000, random_state=42)\n",
    "y_small = y[:1000]\n",
    "\n",
    "# Train Random Forest with fewer trees and parallel jobs\n",
    "rf_model = RandomForestClassifier(n_estimators=50, random_state=42, n_jobs=-1)\n",
    "rf_model.fit(X_small, y_small)\n",
    "\n",
    "# Get feature importances and sort them\n",
    "feature_importances = rf_model.feature_importances_\n",
    "sorted_idx = np.argsort(feature_importances)\n",
    "\n",
    "# Plot the top 10 most important features\n",
    "top_n = 10\n",
    "sorted_idx = sorted_idx[-top_n:]\n",
    "plt.figure(figsize=(10, 6))\n",
    "plt.barh(range(top_n), feature_importances[sorted_idx], align=\"center\")\n",
    "plt.yticks(range(top_n), [X.columns[i] for i in sorted_idx])\n",
    "plt.xlabel(\"Feature Importance\")\n",
    "plt.title(\"Top 10 Feature Importance\")\n",
    "plt.show()\n"
   ]
  },
  {
   "cell_type": "markdown",
   "metadata": {},
   "source": [
    "Step 9: Confusion Matrix Analysis"
   ]
  },
  {
   "cell_type": "code",
   "execution_count": 33,
   "metadata": {},
   "outputs": [
    {
     "data": {
      "image/png": "[encoded data removed]",
      "text/plain": [
       "<Figure size 800x600 with 2 Axes>"
      ]
     },
     "metadata": {},
     "output_type": "display_data"
    }
   ],
   "source": [
    "from sklearn.metrics import confusion_matrix\n",
    "import seaborn as sns\n",
    "\n",
    "# Get confusion matrix\n",
    "y_pred = rf_model.predict(X)\n",
    "cm = confusion_matrix(y, y_pred)\n",
    "\n",
    "# Plot confusion matrix as a heatmap\n",
    "plt.figure(figsize=(8, 6))\n",
    "sns.heatmap(cm, annot=True, fmt='d', cmap='Blues', xticklabels=['Class 0', 'Class 1', 'Class 2'], yticklabels=['Class 0', 'Class 1', 'Class 2'])\n",
    "plt.title('Confusion Matrix')\n",
    "plt.xlabel('Predicted')\n",
    "plt.ylabel('True')\n",
    "plt.show()\n"
   ]
  },
  {
   "cell_type": "markdown",
   "metadata": {},
   "source": [
    "Step 10: Analysis through Learning Curve"
   ]
  },
  {
   "cell_type": "code",
   "execution_count": 34,
   "metadata": {},
   "outputs": [
    {
     "name": "stderr",
     "output_type": "stream",
     "text": [
      "C:\\Users\\Mithun\\AppData\\Roaming\\Python\\Python311\\site-packages\\sklearn\\model_selection\\_split.py:737: UserWarning: The least populated class in y has only 4 members, which is less than n_splits=5.\n",
      "  warnings.warn(\n"
     ]
    },
    {
     "data": {
      "image/png": "[encoded data removed]",
      "text/plain": [
       "<Figure size 1000x600 with 1 Axes>"
      ]
     },
     "metadata": {},
     "output_type": "display_data"
    }
   ],
   "source": [
    "from sklearn.model_selection import learning_curve\n",
    "\n",
    "# Compute learning curve\n",
    "train_sizes, train_scores, test_scores = learning_curve(rf_model, X, y, cv=5, n_jobs=-1, train_sizes=np.linspace(0.1, 1.0, 10))\n",
    "\n",
    "# Plot learning curve\n",
    "plt.figure(figsize=(10, 6))\n",
    "plt.plot(train_sizes, np.mean(train_scores, axis=1), label='Train Score', color='blue')\n",
    "plt.plot(train_sizes, np.mean(test_scores, axis=1), label='Test Score', color='red')\n",
    "plt.xlabel('Training Size')\n",
    "plt.ylabel('Score')\n",
    "plt.title('Learning Curve')\n",
    "plt.legend(loc='best')\n",
    "plt.show()\n"
   ]
  },
  {
   "cell_type": "markdown",
   "metadata": {},
   "source": [
    "Step 11: Recommendations"
   ]
  },
  {
   "cell_type": "code",
   "execution_count": 35,
   "metadata": {},
   "outputs": [
    {
     "name": "stdout",
     "output_type": "stream",
     "text": [
      "1. Ensure proper data cleaning by handling missing values and outliers.\n",
      "2. Add more relevant features such as traffic volume, accident type, etc.\n",
      "3. Fine-tune the model using hyperparameter optimization (e.g., GridSearchCV).\n",
      "4. Consider other models (e.g., Gradient Boosting, XGBoost) for comparison.\n",
      "5. Use cross-validation to get a more accurate measure of model performance.\n"
     ]
    }
   ],
   "source": [
    "print(\"1. Ensure proper data cleaning by handling missing values and outliers.\")\n",
    "print(\"2. Add more relevant features such as traffic volume, accident type, etc.\")\n",
    "print(\"3. Fine-tune the model using hyperparameter optimization (e.g., GridSearchCV).\")\n",
    "print(\"4. Consider other models (e.g., Gradient Boosting, XGBoost) for comparison.\")\n",
    "print(\"5. Use cross-validation to get a more accurate measure of model performance.\")"
   ]
  }
 ],
 "metadata": {
  "kernelspec": {
   "display_name": "Python 3",
   "language": "python",
   "name": "python3"
  },
  "language_info": {
   "codemirror_mode": {
    "name": "ipython",
    "version": 3
   },
   "file_extension": ".py",
   "mimetype": "text/x-python",
   "name": "python",
   "nbconvert_exporter": "python",
   "pygments_lexer": "ipython3",
   "version": "3.11.5"
  }
 },
 "nbformat": 4,
 "nbformat_minor": 2
}
