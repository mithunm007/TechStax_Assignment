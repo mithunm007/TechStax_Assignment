{
 "cells": [
  {
   "cell_type": "markdown",
   "metadata": {},
   "source": [
    "Code to reduce the dataset to 5k"
   ]
  },
  {
   "cell_type": "code",
   "execution_count": null,
   "metadata": {},
   "outputs": [],
   "source": [
    "# Import required library\n",
    "import pandas as pd\n",
    "\n",
    "# Load the dataset\n",
    "df = pd.read_csv('mltask.csv')\n",
    "\n",
    "# Check the total number of rows in the dataset\n",
    "print(f\"Total rows in the dataset: {len(df)}\")\n",
    "\n",
    "# Randomly sample 5000 rows from the dataset\n",
    "df_sampled = df.sample(n=5000, random_state=42)\n",
    "\n",
    "# Save the sampled data to a new CSV file\n",
    "df_sampled.to_csv('mltask_sampled.csv', index=False)\n",
    "\n",
    "print(\"Dataset reduced to 5000 rows and saved as 'mltask_sampled.csv'\")\n"
   ]
  }
 ],
 "metadata": {
  "kernelspec": {
   "display_name": "Python 3",
   "language": "python",
   "name": "python3"
  },
  "language_info": {
   "codemirror_mode": {
    "name": "ipython",
    "version": 3
   },
   "file_extension": ".py",
   "mimetype": "text/x-python",
   "name": "python",
   "nbconvert_exporter": "python",
   "pygments_lexer": "ipython3",
   "version": "3.11.5"
  }
 },
 "nbformat": 4,
 "nbformat_minor": 2
}
